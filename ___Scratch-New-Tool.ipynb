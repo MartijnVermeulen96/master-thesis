{
 "cells": [
  {
   "cell_type": "code",
   "execution_count": 1,
   "metadata": {},
   "outputs": [],
   "source": [
    "import pandas as pd\n",
    "import numpy as np\n",
    "import errorAPI"
   ]
  },
  {
   "cell_type": "code",
   "execution_count": 2,
   "metadata": {},
   "outputs": [
    {
     "name": "stdout",
     "output_type": "stream",
     "text": [
      "Available tools:\n",
      "['dBoost', 'FAHES', 'FDchecker', 'ForbiddenItemSets', 'HoloClean', 'KATARA', 'Raha', 'Regex']\n",
      "Data quality: 0.9138181818181819\n",
      "Num rows: 1000\n"
     ]
    }
   ],
   "source": [
    "creator = errorAPI.ToolCreator()\n",
    "tools = creator.list_tools()\n",
    "dataset_dictionary = {\n",
    "    \"name\": \"rayyan\",\n",
    "}\n",
    "d = errorAPI.Dataset(dataset_dictionary)\n",
    "print(\"Data quality:\", d.get_data_quality())\n",
    "print(\"Num rows:\", len(d.dataframe))"
   ]
  },
  {
   "cell_type": "code",
   "execution_count": 3,
   "metadata": {},
   "outputs": [],
   "source": [
    "autofd = errorAPI.helpers.AutoFD()"
   ]
  },
  {
   "cell_type": "code",
   "execution_count": 4,
   "metadata": {
    "scrolled": true
   },
   "outputs": [
    {
     "name": "stdout",
     "output_type": "stream",
     "text": [
      "Functional Dependencies: \n",
      "{id} -> {article_pagination}\n",
      "{id} -> {author_list}\n",
      "{id} -> {journal_title}\n",
      "{id} -> {article_jvolumn}\n",
      "{id} -> {article_jissue}\n",
      "{id} -> {article_title}\n",
      "{id} -> {article_jcreated_at}\n",
      "{id} -> {journal_issn}\n",
      "{id} -> {article_language}\n",
      "{id} -> {jounral_abbreviation}\n",
      "{article_title} -> {article_pagination}\n",
      "{article_title} -> {author_list}\n",
      "{article_title} -> {id}\n",
      "{article_title} -> {journal_title}\n",
      "{article_title} -> {article_jvolumn}\n",
      "{article_title} -> {article_jissue}\n",
      "{article_title} -> {article_jcreated_at}\n",
      "{article_title} -> {journal_issn}\n",
      "{article_title} -> {article_language}\n",
      "{article_title} -> {jounral_abbreviation}\n",
      "{article_pagination, author_list} -> {article_language}\n",
      "{article_pagination, author_list} -> {jounral_abbreviation}\n",
      "{article_pagination, journal_title} -> {journal_issn}\n",
      "{article_pagination, journal_title} -> {jounral_abbreviation}\n",
      "{author_list, journal_title} -> {journal_issn}\n",
      "{author_list, journal_title} -> {article_language}\n",
      "{author_list, journal_title} -> {jounral_abbreviation}\n",
      "{author_list, article_jvolumn} -> {article_language}\n",
      "{journal_title, article_jvolumn} -> {jounral_abbreviation}\n",
      "{author_list, article_jcreated_at} -> {article_language}\n",
      "{author_list, article_jcreated_at} -> {jounral_abbreviation}\n",
      "{journal_title, article_jcreated_at} -> {jounral_abbreviation}\n",
      "{article_pagination, journal_issn} -> {jounral_abbreviation}\n",
      "{author_list, journal_issn} -> {article_language}\n",
      "{author_list, journal_issn} -> {jounral_abbreviation}\n",
      "{journal_title, journal_issn} -> {jounral_abbreviation}\n",
      "{journal_title, article_language} -> {jounral_abbreviation}\n",
      "{author_list, jounral_abbreviation} -> {article_language}\n",
      "{article_pagination, author_list, article_jvolumn} -> {journal_title}\n",
      "{article_pagination, author_list, article_jvolumn} -> {article_jissue}\n",
      "{article_pagination, author_list, article_jvolumn} -> {article_jcreated_at}\n",
      "{article_pagination, author_list, article_jvolumn} -> {journal_issn}\n",
      "{article_pagination, author_list, article_jissue} -> {journal_title}\n",
      "{article_pagination, author_list, article_jissue} -> {article_jvolumn}\n",
      "{article_pagination, author_list, article_jissue} -> {article_jcreated_at}\n",
      "{article_pagination, author_list, article_jissue} -> {journal_issn}\n",
      "{author_list, article_jvolumn, article_jissue} -> {article_pagination}\n",
      "{author_list, article_jvolumn, article_jissue} -> {journal_title}\n",
      "{author_list, article_jvolumn, article_jissue} -> {article_jcreated_at}\n",
      "{author_list, article_jvolumn, article_jissue} -> {journal_issn}\n",
      "{author_list, article_jvolumn, article_jissue} -> {jounral_abbreviation}\n",
      "{journal_title, article_jvolumn, article_jissue} -> {journal_issn}\n",
      "{article_pagination, author_list, article_jcreated_at} -> {journal_title}\n",
      "{article_pagination, author_list, article_jcreated_at} -> {article_jvolumn}\n",
      "{article_pagination, author_list, article_jcreated_at} -> {article_jissue}\n",
      "{article_pagination, author_list, article_jcreated_at} -> {journal_issn}\n",
      "{article_pagination, journal_title, article_jcreated_at} -> {article_language}\n",
      "{author_list, article_jvolumn, article_jcreated_at} -> {article_pagination}\n",
      "{author_list, article_jvolumn, article_jcreated_at} -> {journal_title}\n",
      "{author_list, article_jvolumn, article_jcreated_at} -> {article_jissue}\n",
      "{author_list, article_jvolumn, article_jcreated_at} -> {journal_issn}\n",
      "{journal_title, article_jvolumn, article_jcreated_at} -> {journal_issn}\n",
      "{author_list, article_jissue, article_jcreated_at} -> {article_pagination}\n",
      "{author_list, article_jissue, article_jcreated_at} -> {journal_title}\n",
      "{author_list, article_jissue, article_jcreated_at} -> {article_jvolumn}\n",
      "{author_list, article_jissue, article_jcreated_at} -> {journal_issn}\n",
      "{journal_title, article_jissue, article_jcreated_at} -> {journal_issn}\n",
      "{author_list, article_jvolumn, journal_issn} -> {journal_title}\n",
      "{author_list, article_jissue, journal_issn} -> {journal_title}\n",
      "{author_list, article_jcreated_at, journal_issn} -> {journal_title}\n",
      "{journal_title, article_jvolumn, article_language} -> {journal_issn}\n",
      "{journal_title, article_jcreated_at, article_language} -> {journal_issn}\n",
      "{author_list, article_jvolumn, jounral_abbreviation} -> {journal_title}\n",
      "{author_list, article_jvolumn, jounral_abbreviation} -> {journal_issn}\n",
      "{article_pagination, journal_title, article_jvolumn, article_jcreated_at} -> {article_jissue}\n",
      "{article_jvolumn, article_jissue, article_jcreated_at, journal_issn, article_language} -> {jounral_abbreviation}\n",
      "\n",
      "Time (s): 2.0508\n",
      "Row count: 1000\n",
      "Attribute count: 11\n",
      "Number of FDs: 76\n",
      "Number of FDs checked: 569\n"
     ]
    }
   ],
   "source": [
    "fds = autofd.run(d)"
   ]
  },
  {
   "cell_type": "code",
   "execution_count": 5,
   "metadata": {},
   "outputs": [
    {
     "name": "stdout",
     "output_type": "stream",
     "text": [
      "No help specified for this tool.\n",
      "Cell Score:\t Precision=0.0\t Recall=0.0\t F1=0.0\n",
      "Row Score:\t Precision=0.0\t Recall=0.0\t F1=0.0\n"
     ]
    },
    {
     "data": {
      "text/plain": [
       "(0.0, 0.0, 0.0, 0.0, 0.0, 0.0)"
      ]
     },
     "execution_count": 5,
     "metadata": {},
     "output_type": "execute_result"
    }
   ],
   "source": [
    "##### Try out\n",
    "tool_name = \"FDchecker\"\n",
    "config = {\"FDs\": fds}\n",
    "tool = creator.createTool(tool_name, config)\n",
    "tool.help()\n",
    "results = tool.run(d)\n",
    "errorAPI.Dataset.print_scores(d, results)"
   ]
  },
  {
   "cell_type": "code",
   "execution_count": null,
   "metadata": {},
   "outputs": [],
   "source": []
  },
  {
   "cell_type": "code",
   "execution_count": 6,
   "metadata": {},
   "outputs": [],
   "source": [
    "import logging\n",
    "import sys\n",
    "logging.basicConfig(stream=sys.stdout, level=logging.DEBUG)"
   ]
  },
  {
   "cell_type": "code",
   "execution_count": 11,
   "metadata": {},
   "outputs": [
    {
     "name": "stdout",
     "output_type": "stream",
     "text": [
      "Set the following parameters in the config: \\{ 'Param': val \\}\n",
      "LABELING_BUDGET => int (default: 20)\n",
      "USER_LABELING_ACCURACY => float (default: 1.0)\n",
      "CLUSTERING_BASED_SAMPLING => boolean (default: True)\n",
      "CLASSIFICATION_MODEL => string (default: GBC) [\"ABC\", \"DTC\", \"GBC\", \"GNB\", \"SGDC\", \"SVC\"]\n",
      "LABEL_PROPAGATION_METHOD => string (default: homogeneity) [\"homogeneity\", \"majority\"]\n",
      "ERROR_DETECTION_ALGORITHMS => list (default: ['OD', 'PVD', 'RVD', 'KBVD'] ) ['OD', 'PVD', 'RVD', 'KBVD', 'TFIDF']\n"
     ]
    },
    {
     "name": "stderr",
     "output_type": "stream",
     "text": [
      "I just load strategies' results as they have already been run on the dataset!\n"
     ]
    },
    {
     "name": "stdout",
     "output_type": "stream",
     "text": [
      "Cell Score:\t Precision=0.8108695652173913\t Recall=0.7869198312236287\t F1=0.7987152034261241\n",
      "Row Score:\t Precision=0.8521836506159015\t Recall=0.9832041343669251\t F1=0.9130173965206958\n"
     ]
    },
    {
     "data": {
      "text/plain": [
       "(0.8108695652173913,\n",
       " 0.7869198312236287,\n",
       " 0.7987152034261241,\n",
       " 0.8521836506159015,\n",
       " 0.9832041343669251,\n",
       " 0.9130173965206958)"
      ]
     },
     "execution_count": 11,
     "metadata": {},
     "output_type": "execute_result"
    }
   ],
   "source": [
    "##### Try out\n",
    "tool_name = \"Raha\"\n",
    "\n",
    "ERROR_DETECTION_ALGORITHMS = [\n",
    "    ['OD', 'PVD', 'RVD', 'KBVD'],\n",
    "    ['OD', 'PVD', 'RVD', 'KBVD', 'TFIDF']\n",
    "]\n",
    "LABEL_PROPAGATION_METHOD = [\"homogeneity\", \"majority\"]\n",
    "CLASSIFICATION_MODEL = [\"ABC\", \"DTC\", \"GBC\", \"GNB\", \"SGDC\", \"SVC\"]\n",
    "\n",
    "config = {\n",
    "    \"ERROR_DETECTION_ALGORITHMS\": ['OD', 'PVD', 'RVD', 'KBVD', 'TFIDF'],\n",
    "    \"LABEL_PROPAGATION_METHOD\": \"homogeneity\"\n",
    "}\n",
    "tool = creator.createTool(tool_name, config)\n",
    "tool.help()\n",
    "results = tool.run(d)\n",
    "errorAPI.Dataset.print_scores(d, results)"
   ]
  },
  {
   "cell_type": "code",
   "execution_count": null,
   "metadata": {
    "scrolled": false
   },
   "outputs": [],
   "source": []
  },
  {
   "cell_type": "code",
   "execution_count": null,
   "metadata": {},
   "outputs": [],
   "source": []
  },
  {
   "cell_type": "code",
   "execution_count": null,
   "metadata": {},
   "outputs": [],
   "source": []
  }
 ],
 "metadata": {
  "kernelspec": {
   "display_name": "Python 3",
   "language": "python",
   "name": "python3"
  },
  "language_info": {
   "codemirror_mode": {
    "name": "ipython",
    "version": 3
   },
   "file_extension": ".py",
   "mimetype": "text/x-python",
   "name": "python",
   "nbconvert_exporter": "python",
   "pygments_lexer": "ipython3",
   "version": "3.6.9"
  }
 },
 "nbformat": 4,
 "nbformat_minor": 2
}
