{
 "cells": [
  {
   "cell_type": "code",
   "execution_count": 9,
   "metadata": {},
   "outputs": [],
   "source": [
    "import errorAPI\n",
    "from errorAPI.dataset import Dataset\n",
    "import pandas as pd\n",
    "from sqlalchemy import create_engine\n",
    "import ipywidgets as widgets\n",
    "from IPython.display import clear_output\n",
    "import random"
   ]
  },
  {
   "cell_type": "code",
   "execution_count": 19,
   "metadata": {},
   "outputs": [],
   "source": [
    "all_datasets = Dataset.list_datasets()"
   ]
  },
  {
   "cell_type": "code",
   "execution_count": null,
   "metadata": {},
   "outputs": [],
   "source": []
  },
  {
   "cell_type": "code",
   "execution_count": 20,
   "metadata": {},
   "outputs": [
    {
     "data": {
      "application/vnd.jupyter.widget-view+json": {
       "model_id": "87068754a3454de5be908bd12ed5b417",
       "version_major": 2,
       "version_minor": 0
      },
      "text/plain": [
       "Dropdown(description='Dataset:', options=('beers', 'company', 'eeg', 'eeg_major', 'eeg_minor', 'eeg_uniform', …"
      ]
     },
     "metadata": {},
     "output_type": "display_data"
    },
    {
     "data": {
      "application/vnd.jupyter.widget-view+json": {
       "model_id": "f07d8db8d8aa4c8d8be7e98234f609d0",
       "version_major": 2,
       "version_minor": 0
      },
      "text/plain": [
       "Button(description='Show the dataset', style=ButtonStyle())"
      ]
     },
     "metadata": {},
     "output_type": "display_data"
    }
   ],
   "source": [
    "selected_dataset = all_datasets\n",
    "w = widgets.Dropdown(\n",
    "    options=all_datasets,\n",
    "    description='Dataset:',\n",
    "    disabled=False,\n",
    ")\n",
    "\n",
    "number_of_examples = 50\n",
    "\n",
    "\n",
    "def out_display_dataset(change_output, df_output, dataset_name):\n",
    "    global d, missing_value_errors\n",
    "    with change_output:\n",
    "        clear_output()\n",
    "        print(\"Loading...\")\n",
    "    with df_out:\n",
    "        clear_output()\n",
    "        print(\"Loading...\")\n",
    "        \n",
    "    data_dictionary = {\n",
    "        \"name\": dataset_name\n",
    "    }\n",
    "    d = Dataset(data_dictionary)\n",
    "    missing_value_errors = (d.clean_dataframe == \"\").sum().sum() - (d.dataframe == \"\").sum().sum()\n",
    "    \n",
    "    with change_output:\n",
    "        print(\"-=\"*10)\n",
    "        print(\"Total errors:\", len(d.actual_errors_dictionary))\n",
    "        print(\"Number of basic missing values:\", missing_value_errors)\n",
    "        print()\n",
    "        print(\"Example changes:\")\n",
    "        for row_col in random.sample([x for x in d.actual_errors_dictionary], min(number_of_examples, len(d.actual_errors_dictionary))):\n",
    "            print(row_col, d.dataframe.iloc[row_col[0], row_col[1]], \"=>\", d.clean_dataframe.iloc[row_col[0], row_col[1]])            \n",
    "        \n",
    "    with df_out:\n",
    "        print(\"-=\"*10)\n",
    "        print(\"Dirty:\")\n",
    "        display(d.dataframe)\n",
    "        \n",
    "        print(\"-=\"*10)\n",
    "        print(\"Cleaned:\")\n",
    "        display(d.clean_dataframe)\n",
    "        \n",
    "        \n",
    "def on_change(click_event):\n",
    "    out_display_dataset(changes_out, df_out, w.value)\n",
    "\n",
    "changes_out = widgets.Output()\n",
    "df_out = widgets.Output()\n",
    "button = widgets.Button(description=\"Show the dataset\")\n",
    "button.on_click(on_change)\n",
    "\n",
    "# out_display_dataset(changes_out, df_out, w.value)\n",
    "display(w)\n",
    "display(button)\n"
   ]
  },
  {
   "cell_type": "code",
   "execution_count": 21,
   "metadata": {},
   "outputs": [
    {
     "data": {
      "application/vnd.jupyter.widget-view+json": {
       "model_id": "46dca9d2c9634bff98b77e024bf1891b",
       "version_major": 2,
       "version_minor": 0
      },
      "text/plain": [
       "Output()"
      ]
     },
     "metadata": {},
     "output_type": "display_data"
    }
   ],
   "source": [
    "changes_out"
   ]
  },
  {
   "cell_type": "code",
   "execution_count": 22,
   "metadata": {
    "scrolled": false
   },
   "outputs": [
    {
     "data": {
      "application/vnd.jupyter.widget-view+json": {
       "model_id": "ce33c7973e3a4e2f9b6513bf67c62e57",
       "version_major": 2,
       "version_minor": 0
      },
      "text/plain": [
       "Output()"
      ]
     },
     "metadata": {},
     "output_type": "display_data"
    }
   ],
   "source": [
    "df_out"
   ]
  },
  {
   "cell_type": "code",
   "execution_count": null,
   "metadata": {},
   "outputs": [],
   "source": []
  },
  {
   "cell_type": "code",
   "execution_count": null,
   "metadata": {
    "scrolled": true
   },
   "outputs": [],
   "source": []
  }
 ],
 "metadata": {
  "kernelspec": {
   "display_name": "Python 3",
   "language": "python",
   "name": "python3"
  },
  "language_info": {
   "codemirror_mode": {
    "name": "ipython",
    "version": 3
   },
   "file_extension": ".py",
   "mimetype": "text/x-python",
   "name": "python",
   "nbconvert_exporter": "python",
   "pygments_lexer": "ipython3",
   "version": "3.7.4"
  }
 },
 "nbformat": 4,
 "nbformat_minor": 2
}
