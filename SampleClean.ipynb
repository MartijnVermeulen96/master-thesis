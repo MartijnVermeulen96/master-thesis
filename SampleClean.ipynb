{
 "cells": [
  {
   "cell_type": "code",
   "metadata": {},
   "outputs": [],
   "source": []
  },
  {
   "cell_type": "code",
   "execution_count": 1,
   "metadata": {},
   "outputs": [],
   "source": [
    "import errorAPI"
   ]
  },
  {
   "cell_type": "code",
   "execution_count": 2,
   "metadata": {},
   "outputs": [],
   "source": [
    "creator = errorAPI.ToolCreator()"
   ]
  },
  {
   "cell_type": "code",
   "execution_count": 3,
   "metadata": {},
   "outputs": [
    {
     "name": "stdout",
     "output_type": "stream",
     "text": "Available tools:\n['dBoost', 'FDchecker', 'Regex']\n"
    }
   ],
   "source": [
    "tools = creator.list_tools()\n"
   ]
  },
  {
   "cell_type": "code",
   "metadata": {},
   "outputs": [],
   "source": []
  },
  {
   "cell_type": "code",
   "execution_count": 4,
   "metadata": {},
   "outputs": [
    {
     "name": "stdout",
     "output_type": "stream",
     "text": "0.7041847041847042\n"
    }
   ],
   "source": [
    "dataset_dictionary = {\n",
    "    \"name\": \"flights\",\n",
    "}\n",
    "d = errorAPI.dataset.Dataset(dataset_dictionary)\n",
    "print(d.get_data_quality())"
   ]
  },
  {
   "cell_type": "code",
   "execution_count": 5,
   "metadata": {},
   "outputs": [
    {
     "name": "stdout",
     "output_type": "stream",
     "text": "-=-=-=-=-=-=-=-=-=-=\nCreating dBoost\nConfiguration arguments:\nExamples: \n[\"gaussian\",\"1.5\"]\n[\"histogram\", \"1.5\", \"2.0\"]\n>> Finding correlations\n>> Building model...\n>> Finding outliers...\nTime 0 2.604048800000001\nScore:  [0.0, 0.0, 0.0, 0.0, 0.0, 0.0]\n\n-=-=-=-=-=-=-=-=-=-=\nCreating FDchecker\nNo help specified for this tool.\nScore:  [0.0, 0.0, 0.0, 0.0, 0.0, 0.0]\n\n-=-=-=-=-=-=-=-=-=-=\nCreating Regex\nNo help specified for this tool.\nI know a lot of patterns!\nScore:  [0.0, 0.0, 0.0, 0.0, 0.0, 0.0]\n\nRuntime  2.970924999999994\n"
    }
   ],
   "source": [
    "for tool_name in tools:\n",
    "    print(\"-=\"*10)\n",
    "    tool = creator.createTool(tool_name, [])\n",
    "    tool.help()\n",
    "    results = tool.run(d)\n",
    "    print(\"Score: \", d.evaluate_data_cleaning(results))\n",
    "    print()"
   ]
  },
  {
   "cell_type": "code",
   "metadata": {},
   "outputs": [],
   "source": []
  },
  {
   "cell_type": "code",
   "execution_count": 6,
   "metadata": {},
   "outputs": [
    {
     "name": "stderr",
     "output_type": "stream",
     "text": ">> Finding correlations\nCreating dBoost\nCreating dBoost\n>> Building model...\n>> Finding outliers...\nTime 0 2.305093499999998\nRuntime  2.660171599999998\n>> Finding correlations\nCreating dBoost\n>> Building model...\n>> Finding outliers...\nTime 0 2.323593299999999\nRuntime  2.727920900000001\n>> Finding correlations\nCreating dBoost\n>> Building model...\n>> Finding outliers...\nTime 0 2.3311643999999916\nRuntime  2.6823835000000003\n>> Finding correlations\nCreating dBoost\n"
    },
    {
     "ename": "KeyboardInterrupt",
     "evalue": "",
     "output_type": "error",
     "traceback": [
      "\u001b[1;31m---------------------------------------------------------------------------\u001b[0m",
      "\u001b[1;31mKeyboardInterrupt\u001b[0m                         Traceback (most recent call last)",
      "\u001b[1;32m<ipython-input-6-91cc8060a32b>\u001b[0m in \u001b[0;36m<module>\u001b[1;34m\u001b[0m\n\u001b[0;32m      1\u001b[0m \u001b[1;32mfor\u001b[0m \u001b[0mconfig\u001b[0m \u001b[1;32min\u001b[0m \u001b[0mcreator\u001b[0m\u001b[1;33m.\u001b[0m\u001b[0mcreateTool\u001b[0m\u001b[1;33m(\u001b[0m\u001b[1;34m\"dBoost\"\u001b[0m\u001b[1;33m,\u001b[0m \u001b[1;33m[\u001b[0m\u001b[1;33m]\u001b[0m\u001b[1;33m)\u001b[0m\u001b[1;33m.\u001b[0m\u001b[0mexample_configurations\u001b[0m\u001b[1;33m:\u001b[0m\u001b[1;33m\u001b[0m\u001b[1;33m\u001b[0m\u001b[0m\n\u001b[0;32m      2\u001b[0m     \u001b[0mdboost_tool\u001b[0m \u001b[1;33m=\u001b[0m \u001b[0mcreator\u001b[0m\u001b[1;33m.\u001b[0m\u001b[0mcreateTool\u001b[0m\u001b[1;33m(\u001b[0m\u001b[1;34m\"dBoost\"\u001b[0m\u001b[1;33m,\u001b[0m \u001b[0mconfig\u001b[0m\u001b[1;33m)\u001b[0m\u001b[1;33m\u001b[0m\u001b[1;33m\u001b[0m\u001b[0m\n\u001b[1;32m----> 3\u001b[1;33m     \u001b[0mresults\u001b[0m \u001b[1;33m=\u001b[0m \u001b[0mdboost_tool\u001b[0m\u001b[1;33m.\u001b[0m\u001b[0mrun\u001b[0m\u001b[1;33m(\u001b[0m\u001b[0md\u001b[0m\u001b[1;33m)\u001b[0m\u001b[1;33m\u001b[0m\u001b[1;33m\u001b[0m\u001b[0m\n\u001b[0m\u001b[0;32m      4\u001b[0m     \u001b[0md\u001b[0m\u001b[1;33m.\u001b[0m\u001b[0mevaluate_data_cleaning\u001b[0m\u001b[1;33m(\u001b[0m\u001b[0mresults\u001b[0m\u001b[1;33m)\u001b[0m\u001b[1;33m\u001b[0m\u001b[1;33m\u001b[0m\u001b[0m\n",
      "\u001b[1;32mc:\\Users\\Martijn\\Documents\\TU_Delft\\Thesis\\master-thesis\\errorAPI\\tools\\dBoost\\_tool.py\u001b[0m in \u001b[0;36mrun\u001b[1;34m(self, dataset)\u001b[0m\n\u001b[0;32m     83\u001b[0m                 \u001b[1;32mfor\u001b[0m \u001b[0manalyzer\u001b[0m \u001b[1;32min\u001b[0m \u001b[0manalyzers\u001b[0m\u001b[1;33m:\u001b[0m\u001b[1;33m\u001b[0m\u001b[1;33m\u001b[0m\u001b[0m\n\u001b[0;32m     84\u001b[0m                     outlier_cells = list(dboost.outliers(trainset_generator, testset_generator, \n\u001b[1;32m---> 85\u001b[1;33m                                                 analyzer, model, rules,args.runtime_progress, args.maxrecords))   # outliers is defined in __init__.py\n\u001b[0m\u001b[0;32m     86\u001b[0m \u001b[1;33m\u001b[0m\u001b[0m\n\u001b[0;32m     87\u001b[0m             \u001b[0malgorithm_results_path\u001b[0m \u001b[1;33m=\u001b[0m \u001b[0mdataset_path\u001b[0m \u001b[1;33m+\u001b[0m \u001b[1;34m\"-dboost_output.csv\"\u001b[0m\u001b[1;33m\u001b[0m\u001b[1;33m\u001b[0m\u001b[0m\n",
      "\u001b[1;32mc:\\Users\\Martijn\\Documents\\TU_Delft\\Thesis\\master-thesis\\errorAPI\\tools\\dBoost\\dBoost\\dboost\\__init__.py\u001b[0m in \u001b[0;36moutliers\u001b[1;34m(trainset_generator, testset_generator, analyzer, model, rules, runtime_progress, maxrecords)\u001b[0m\n\u001b[0;32m     29\u001b[0m     \u001b[0mdebug\u001b[0m\u001b[1;33m(\u001b[0m\u001b[1;34m\">> Finding correlations\"\u001b[0m\u001b[1;33m)\u001b[0m\u001b[1;33m\u001b[0m\u001b[1;33m\u001b[0m\u001b[0m\n\u001b[0;32m     30\u001b[0m \u001b[1;33m\u001b[0m\u001b[0m\n\u001b[1;32m---> 31\u001b[1;33m     \u001b[0manalyzer\u001b[0m\u001b[1;33m.\u001b[0m\u001b[0mfit\u001b[0m\u001b[1;33m(\u001b[0m\u001b[0mexpand_stream\u001b[0m\u001b[1;33m(\u001b[0m\u001b[0mtrainset_generator\u001b[0m\u001b[1;33m,\u001b[0m \u001b[0mrules\u001b[0m\u001b[1;33m,\u001b[0m \u001b[1;32mFalse\u001b[0m\u001b[1;33m,\u001b[0m \u001b[1;32mNone\u001b[0m\u001b[1;33m,\u001b[0m \u001b[0mmaxrecords\u001b[0m\u001b[1;33m)\u001b[0m\u001b[1;33m)\u001b[0m\u001b[1;33m\u001b[0m\u001b[1;33m\u001b[0m\u001b[0m\n\u001b[0m\u001b[0;32m     32\u001b[0m     \u001b[1;31m# debug(analyzer.hints)\u001b[0m\u001b[1;33m\u001b[0m\u001b[1;33m\u001b[0m\u001b[1;33m\u001b[0m\u001b[0m\n\u001b[0;32m     33\u001b[0m \u001b[1;33m\u001b[0m\u001b[0m\n",
      "\u001b[1;32mc:\\Users\\Martijn\\Documents\\TU_Delft\\Thesis\\master-thesis\\errorAPI\\tools\\dBoost\\dBoost\\dboost\\analyzers\\statistical.py\u001b[0m in \u001b[0;36mfit\u001b[1;34m(self, Xs)\u001b[0m\n\u001b[0;32m     64\u001b[0m             \u001b[1;32mfor\u001b[0m \u001b[1;33m(\u001b[0m\u001b[0mid1\u001b[0m\u001b[1;33m,\u001b[0m \u001b[0mid2\u001b[0m\u001b[1;33m)\u001b[0m \u001b[1;32min\u001b[0m \u001b[0mself\u001b[0m\u001b[1;33m.\u001b[0m\u001b[0mpairwise_prods\u001b[0m\u001b[1;33m:\u001b[0m\u001b[1;33m\u001b[0m\u001b[1;33m\u001b[0m\u001b[0m\n\u001b[0;32m     65\u001b[0m                 \u001b[1;33m(\u001b[0m\u001b[0midx\u001b[0m\u001b[1;33m,\u001b[0m \u001b[0msidx\u001b[0m\u001b[1;33m)\u001b[0m\u001b[1;33m,\u001b[0m \u001b[1;33m(\u001b[0m\u001b[0midy\u001b[0m\u001b[1;33m,\u001b[0m \u001b[0msidy\u001b[0m\u001b[1;33m)\u001b[0m \u001b[1;33m=\u001b[0m \u001b[0mid1\u001b[0m\u001b[1;33m,\u001b[0m \u001b[0mid2\u001b[0m\u001b[1;33m\u001b[0m\u001b[1;33m\u001b[0m\u001b[0m\n\u001b[1;32m---> 66\u001b[1;33m                 \u001b[0mself\u001b[0m\u001b[1;33m.\u001b[0m\u001b[0mpairwise_prods\u001b[0m\u001b[1;33m[\u001b[0m\u001b[1;33m(\u001b[0m\u001b[0mid1\u001b[0m\u001b[1;33m,\u001b[0m \u001b[0mid2\u001b[0m\u001b[1;33m)\u001b[0m\u001b[1;33m]\u001b[0m \u001b[1;33m+=\u001b[0m \u001b[0mX\u001b[0m\u001b[1;33m[\u001b[0m\u001b[0midx\u001b[0m\u001b[1;33m]\u001b[0m\u001b[1;33m[\u001b[0m\u001b[0msidx\u001b[0m\u001b[1;33m]\u001b[0m \u001b[1;33m*\u001b[0m \u001b[0mX\u001b[0m\u001b[1;33m[\u001b[0m\u001b[0midy\u001b[0m\u001b[1;33m]\u001b[0m\u001b[1;33m[\u001b[0m\u001b[0msidy\u001b[0m\u001b[1;33m]\u001b[0m\u001b[1;33m\u001b[0m\u001b[1;33m\u001b[0m\u001b[0m\n\u001b[0m\u001b[0;32m     67\u001b[0m \u001b[1;33m\u001b[0m\u001b[0m\n\u001b[0;32m     68\u001b[0m         \u001b[1;32mfor\u001b[0m \u001b[0mpair_id\u001b[0m \u001b[1;32min\u001b[0m \u001b[0mself\u001b[0m\u001b[1;33m.\u001b[0m\u001b[0mpairwise_prods\u001b[0m\u001b[1;33m:\u001b[0m\u001b[1;33m\u001b[0m\u001b[1;33m\u001b[0m\u001b[0m\n",
      "\u001b[1;31mKeyboardInterrupt\u001b[0m: "
     ]
    }
   ],
   "source": [
    "for config in creator.createTool(\"dBoost\", []).example_configurations:\n",
    "    dboost_tool = creator.createTool(\"dBoost\", config)\n",
    "    results = dboost_tool.run(d)\n",
    "    print(\"Score: \", d.evaluate_data_cleaning(results))\n",
    "    d.evaluate_data_cleaning(results)"
   ]
  },
  {
   "cell_type": "code",
   "metadata": {},
   "outputs": [],
   "source": []
  },
  {
   "cell_type": "code",
   "execution_count": 0,
   "metadata": {},
   "outputs": [],
   "source": [
    "\n"
   ]
  },
  {
   "cell_type": "code",
   "metadata": {},
   "outputs": [],
   "source": []
  },
  {
   "cell_type": "code",
   "metadata": {},
   "outputs": [],
   "source": []
  }
 ],
 "metadata": {
  "kernelspec": {
   "display_name": "Python 3",
   "language": "python",
   "name": "python3"
  },
  "language_info": {
   "codemirror_mode": {
    "name": "ipython",
    "version": 3
   },
   "file_extension": ".py",
   "mimetype": "text/x-python",
   "name": "python",
   "nbconvert_exporter": "python",
   "pygments_lexer": "ipython3",
   "version": "3.7.4"
  }
 },
 "nbformat": 4,
 "nbformat_minor": 2
}