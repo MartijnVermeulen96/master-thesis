{
 "cells": [
  {
   "cell_type": "code",
   "execution_count": null,
   "metadata": {},
   "outputs": [],
   "source": []
  },
  {
   "cell_type": "code",
   "execution_count": 1,
   "metadata": {},
   "outputs": [
    {
     "name": "stdout",
     "output_type": "stream",
     "text": [
      "Available tools:\n",
      "['dBoost', 'FAHES', 'FDchecker', 'Raha', 'Regex']\n",
      "0.7041847041847042\n"
     ]
    }
   ],
   "source": [
    "import errorAPI\n",
    "creator = errorAPI.ToolCreator()\n",
    "tools = creator.list_tools()\n",
    "dataset_dictionary = {\n",
    "    \"name\": \"flights\",\n",
    "}\n",
    "d = errorAPI.dataset.Dataset(dataset_dictionary)\n",
    "print(d.get_data_quality())"
   ]
  },
  {
   "cell_type": "code",
   "execution_count": null,
   "metadata": {},
   "outputs": [],
   "source": []
  },
  {
   "cell_type": "code",
   "execution_count": 2,
   "metadata": {},
   "outputs": [],
   "source": [
    "def print_scores(d, results):\n",
    "    scores = d.evaluate_data_cleaning(results)\n",
    "    prec = scores[0]\n",
    "    rec = scores[1]\n",
    "    f1 = scores[2]\n",
    "\n",
    "    print(\"Cell Score:\\t Precision=\" + str(prec) + \"\\t Recall=\" + str(rec) + \"\\t F1=\"+str(f1))\n",
    "\n",
    "    scores = d.evaluate_detection_row_wise(results)\n",
    "    prec = scores[0]\n",
    "    rec = scores[1]\n",
    "    f1 = scores[2]\n",
    "    print(\"Row Score:\\t Precision=\" + str(prec) + \"\\t Recall=\" + str(rec) + \"\\t F1=\"+str(f1))"
   ]
  },
  {
   "cell_type": "code",
   "execution_count": null,
   "metadata": {},
   "outputs": [],
   "source": []
  },
  {
   "cell_type": "code",
   "execution_count": 3,
   "metadata": {},
   "outputs": [
    {
     "name": "stdout",
     "output_type": "stream",
     "text": [
      "-=-=-=-=-=-=-=-=-=-=\n",
      "Creating dBoost\n",
      "Configuration arguments:\n",
      "Examples: \n",
      "[\"gaussian\",\"1.5\"]\n",
      "[\"histogram\", \"1.5\", \"2.0\"]\n"
     ]
    },
    {
     "name": "stderr",
     "output_type": "stream",
     "text": [
      ">> Finding correlations\n",
      ">> Building model...\n",
      ">> Finding outliers...\n",
      "Time 0 1.473154500000419\n",
      "Runtime  1.635476600000402\n"
     ]
    },
    {
     "name": "stdout",
     "output_type": "stream",
     "text": [
      "Cell Score:\t Precision=0.0\t Recall=0.0\t F1=0.0\n",
      "Row Score:\t Precision=0.0\t Recall=0.0\t F1=0.0\n",
      "\n",
      "-=-=-=-=-=-=-=-=-=-=\n",
      "Creating FAHES\n",
      "Configuration arguments:\n",
      "Examples: \n",
      "\n",
      "-=-=-=-=-=-=-=-=-=-=\n",
      "Creating FDchecker\n",
      "No help specified for this tool.\n",
      "Cell Score:\t Precision=0.0\t Recall=0.0\t F1=0.0\n",
      "Row Score:\t Precision=0.0\t Recall=0.0\t F1=0.0\n",
      "\n",
      "-=-=-=-=-=-=-=-=-=-=\n",
      "Creating Raha\n",
      "TODO\n",
      "TODO\n"
     ]
    },
    {
     "name": "stderr",
     "output_type": "stream",
     "text": [
      "I just load strategies' results as they have already been run on the dataset!\n"
     ]
    },
    {
     "name": "stdout",
     "output_type": "stream",
     "text": [
      "Cell Score:\t Precision=0.8683410978326919\t Recall=0.8713414634146341\t F1=0.8698386933143958\n",
      "Row Score:\t Precision=0.873046875\t Recall=0.36341463414634145\t F1=0.513203214695752\n",
      "\n",
      "-=-=-=-=-=-=-=-=-=-=\n",
      "Creating Regex\n",
      "No help specified for this tool.\n",
      "I know a lot of patterns!\n",
      "Cell Score:\t Precision=0.0\t Recall=0.0\t F1=0.0\n",
      "Row Score:\t Precision=0.0\t Recall=0.0\t F1=0.0\n",
      "\n"
     ]
    }
   ],
   "source": [
    "for tool_name in tools:\n",
    "    print(\"-=\"*10)\n",
    "    tool = creator.createTool(tool_name, [])\n",
    "    tool.help()\n",
    "    results = tool.run(d)\n",
    "    try:\n",
    "        print_scores(d, results)\n",
    "    except:\n",
    "        pass\n",
    "    print()\n"
   ]
  },
  {
   "cell_type": "code",
   "execution_count": 4,
   "metadata": {
    "scrolled": true
   },
   "outputs": [
    {
     "name": "stdout",
     "output_type": "stream",
     "text": [
      "Creating dBoost\n",
      "Creating dBoost\n"
     ]
    },
    {
     "name": "stderr",
     "output_type": "stream",
     "text": [
      ">> Finding correlations\n",
      ">> Building model...\n",
      ">> Finding outliers...\n",
      "Time 0 2.132363200000327\n",
      "Runtime  2.4114486000007673\n",
      ">> Finding correlations\n"
     ]
    },
    {
     "name": "stdout",
     "output_type": "stream",
     "text": [
      "Cell Score:\t Precision=0.1483409238776838\t Recall=0.09268292682926829\t F1=0.11408556417312984\n",
      "Row Score:\t Precision=0.7950617283950617\t Recall=0.32723577235772355\t F1=0.4636429085673146\n",
      "Creating dBoost\n"
     ]
    },
    {
     "name": "stderr",
     "output_type": "stream",
     "text": [
      ">> Building model...\n",
      ">> Finding outliers...\n",
      "Time 0 2.1660446999994747\n",
      "Runtime  2.432498399999531\n",
      ">> Finding correlations\n"
     ]
    },
    {
     "name": "stdout",
     "output_type": "stream",
     "text": [
      "Cell Score:\t Precision=0.18731252083101876\t Recall=0.3426829268292683\t F1=0.2422239781624883\n",
      "Row Score:\t Precision=0.8013468013468014\t Recall=0.38699186991869916\t F1=0.5219298245614036\n",
      "Creating dBoost\n"
     ]
    },
    {
     "name": "stderr",
     "output_type": "stream",
     "text": [
      ">> Building model...\n",
      ">> Finding outliers...\n",
      "Time 0 1.7731008000000656\n",
      "Runtime  2.0383693000003404\n",
      ">> Finding correlations\n"
     ]
    },
    {
     "name": "stdout",
     "output_type": "stream",
     "text": [
      "Cell Score:\t Precision=0.3051278217969801\t Recall=0.8296747967479675\t F1=0.4461689802164171\n",
      "Row Score:\t Precision=0.8013468013468014\t Recall=0.38699186991869916\t F1=0.5219298245614036\n",
      "Creating dBoost\n"
     ]
    },
    {
     "name": "stderr",
     "output_type": "stream",
     "text": [
      ">> Building model...\n",
      ">> Finding outliers...\n",
      "Time 0 1.685823700000583\n",
      "Runtime  1.9277690000008079\n",
      ">> Finding correlations\n"
     ]
    },
    {
     "name": "stdout",
     "output_type": "stream",
     "text": [
      "Cell Score:\t Precision=0.27638973525628\t Recall=0.8296747967479675\t F1=0.41464777286809895\n",
      "Row Score:\t Precision=0.8013468013468014\t Recall=0.38699186991869916\t F1=0.5219298245614036\n",
      "Creating dBoost\n"
     ]
    },
    {
     "name": "stderr",
     "output_type": "stream",
     "text": [
      ">> Building model...\n",
      ">> Finding outliers...\n",
      "Time 0 1.8415482000000338\n",
      "Runtime  2.17490110000017\n",
      ">> Finding correlations\n"
     ]
    },
    {
     "name": "stdout",
     "output_type": "stream",
     "text": [
      "Cell Score:\t Precision=0.2958152958152958\t Recall=1.0\t F1=0.45657015590200445\n",
      "Row Score:\t Precision=0.8013468013468014\t Recall=0.38699186991869916\t F1=0.5219298245614036\n",
      "Creating dBoost\n"
     ]
    },
    {
     "name": "stderr",
     "output_type": "stream",
     "text": [
      ">> Building model...\n",
      ">> Finding outliers...\n",
      "Time 0 1.9447319999999308\n",
      "Runtime  2.182500300000356\n",
      ">> Finding correlations\n"
     ]
    },
    {
     "name": "stdout",
     "output_type": "stream",
     "text": [
      "Cell Score:\t Precision=0.1483409238776838\t Recall=0.09268292682926829\t F1=0.11408556417312984\n",
      "Row Score:\t Precision=0.7950617283950617\t Recall=0.32723577235772355\t F1=0.4636429085673146\n",
      "Creating dBoost\n"
     ]
    },
    {
     "name": "stderr",
     "output_type": "stream",
     "text": [
      ">> Building model...\n",
      ">> Finding outliers...\n",
      "Time 0 1.7149969000001875\n",
      "Runtime  1.9402288000001136\n",
      ">> Finding correlations\n"
     ]
    },
    {
     "name": "stdout",
     "output_type": "stream",
     "text": [
      "Cell Score:\t Precision=0.18731252083101876\t Recall=0.3426829268292683\t F1=0.2422239781624883\n",
      "Row Score:\t Precision=0.8013468013468014\t Recall=0.38699186991869916\t F1=0.5219298245614036\n",
      "Creating dBoost\n"
     ]
    },
    {
     "name": "stderr",
     "output_type": "stream",
     "text": [
      ">> Building model...\n",
      ">> Finding outliers...\n",
      "Time 0 1.701004099999409\n",
      "Runtime  1.9611895999996705\n",
      ">> Finding correlations\n"
     ]
    },
    {
     "name": "stdout",
     "output_type": "stream",
     "text": [
      "Cell Score:\t Precision=0.3051278217969801\t Recall=0.8296747967479675\t F1=0.4461689802164171\n",
      "Row Score:\t Precision=0.8013468013468014\t Recall=0.38699186991869916\t F1=0.5219298245614036\n",
      "Creating dBoost\n"
     ]
    },
    {
     "name": "stderr",
     "output_type": "stream",
     "text": [
      ">> Building model...\n",
      ">> Finding outliers...\n",
      "Time 0 1.7171167999995305\n"
     ]
    },
    {
     "name": "stdout",
     "output_type": "stream",
     "text": [
      "Cell Score:\t Precision=0.27638973525628\t Recall=0.8296747967479675\t F1=0.41464777286809895\n",
      "Row Score:\t Precision=0.8013468013468014\t Recall=0.38699186991869916\t F1=0.5219298245614036\n",
      "Creating dBoost\n"
     ]
    },
    {
     "name": "stderr",
     "output_type": "stream",
     "text": [
      "Runtime  1.945927099999608\n",
      ">> Finding correlations\n",
      ">> Building model...\n",
      ">> Finding outliers...\n",
      "Time 0 1.7140300999999454\n",
      "Runtime  1.9682745000000068\n",
      ">> Finding correlations\n"
     ]
    },
    {
     "name": "stdout",
     "output_type": "stream",
     "text": [
      "Cell Score:\t Precision=0.2958152958152958\t Recall=1.0\t F1=0.45657015590200445\n",
      "Row Score:\t Precision=0.8013468013468014\t Recall=0.38699186991869916\t F1=0.5219298245614036\n",
      "Creating dBoost\n"
     ]
    },
    {
     "name": "stderr",
     "output_type": "stream",
     "text": [
      ">> Building model...\n",
      ">> Finding outliers...\n",
      "Time 0 1.8332103000002462\n",
      "Runtime  2.078418000000056\n",
      ">> Finding correlations\n"
     ]
    },
    {
     "name": "stdout",
     "output_type": "stream",
     "text": [
      "Cell Score:\t Precision=0.8306010928961749\t Recall=0.09268292682926829\t F1=0.16675809105869446\n",
      "Row Score:\t Precision=0.9241573033707865\t Recall=0.06686991869918699\t F1=0.12471569370735404\n",
      "Creating dBoost\n"
     ]
    },
    {
     "name": "stderr",
     "output_type": "stream",
     "text": [
      ">> Building model...\n",
      ">> Finding outliers...\n",
      "Time 0 1.8821880000004967\n",
      "Runtime  2.1300967000006494\n",
      ">> Finding correlations\n"
     ]
    },
    {
     "name": "stdout",
     "output_type": "stream",
     "text": [
      "Cell Score:\t Precision=0.35547122074636306\t Recall=0.3426829268292683\t F1=0.3489599503259857\n",
      "Row Score:\t Precision=0.7857142857142857\t Recall=0.317479674796748\t F1=0.45222929936305734\n",
      "Creating dBoost\n"
     ]
    },
    {
     "name": "stderr",
     "output_type": "stream",
     "text": [
      ">> Building model...\n",
      ">> Finding outliers...\n",
      "Time 0 1.6669104000002335\n"
     ]
    },
    {
     "name": "stdout",
     "output_type": "stream",
     "text": [
      "Cell Score:\t Precision=0.3759093839211714\t Recall=0.8296747967479675\t F1=0.5173965397046707\n",
      "Row Score:\t Precision=0.8013468013468014\t Recall=0.38699186991869916\t F1=0.5219298245614036\n",
      "Creating dBoost\n"
     ]
    },
    {
     "name": "stderr",
     "output_type": "stream",
     "text": [
      "Runtime  1.889635300000009\n",
      ">> Finding correlations\n",
      ">> Building model...\n",
      ">> Finding outliers...\n",
      "Time 0 1.6655555000006643\n",
      "Runtime  1.8940832000007504\n",
      ">> Finding correlations\n"
     ]
    },
    {
     "name": "stdout",
     "output_type": "stream",
     "text": [
      "Cell Score:\t Precision=0.3288752819851756\t Recall=0.8296747967479675\t F1=0.4710362335564275\n",
      "Row Score:\t Precision=0.8013468013468014\t Recall=0.38699186991869916\t F1=0.5219298245614036\n",
      "Creating dBoost\n"
     ]
    },
    {
     "name": "stderr",
     "output_type": "stream",
     "text": [
      ">> Building model...\n",
      ">> Finding outliers...\n",
      "Time 0 1.6463068999992174\n",
      "Runtime  1.9020430999999007\n",
      ">> Finding correlations\n"
     ]
    },
    {
     "name": "stdout",
     "output_type": "stream",
     "text": [
      "Cell Score:\t Precision=0.3446584938704028\t Recall=1.0\t F1=0.5126334983068508\n",
      "Row Score:\t Precision=0.8013468013468014\t Recall=0.38699186991869916\t F1=0.5219298245614036\n",
      "Creating dBoost\n"
     ]
    },
    {
     "name": "stderr",
     "output_type": "stream",
     "text": [
      ">> Building model...\n",
      ">> Finding outliers...\n",
      "Time 0 1.7392743000000337\n",
      "Runtime  1.9725158000001102\n",
      ">> Finding correlations\n"
     ]
    },
    {
     "name": "stdout",
     "output_type": "stream",
     "text": [
      "Cell Score:\t Precision=0.8306010928961749\t Recall=0.09268292682926829\t F1=0.16675809105869446\n",
      "Row Score:\t Precision=0.9241573033707865\t Recall=0.06686991869918699\t F1=0.12471569370735404\n",
      "Creating dBoost\n"
     ]
    },
    {
     "name": "stderr",
     "output_type": "stream",
     "text": [
      ">> Building model...\n",
      ">> Finding outliers...\n",
      "Time 0 1.8601903999997376\n",
      "Runtime  2.0764557999991666\n"
     ]
    },
    {
     "name": "stdout",
     "output_type": "stream",
     "text": [
      "Cell Score:\t Precision=0.35547122074636306\t Recall=0.3426829268292683\t F1=0.3489599503259857\n",
      "Row Score:\t Precision=0.7857142857142857\t Recall=0.317479674796748\t F1=0.45222929936305734\n",
      "Creating dBoost\n"
     ]
    },
    {
     "name": "stderr",
     "output_type": "stream",
     "text": [
      ">> Finding correlations\n",
      ">> Building model...\n",
      ">> Finding outliers...\n",
      "Time 0 1.8940541000001758\n",
      "Runtime  2.174543000000085\n",
      ">> Finding correlations\n"
     ]
    },
    {
     "name": "stdout",
     "output_type": "stream",
     "text": [
      "Cell Score:\t Precision=0.4475877192982456\t Recall=0.8296747967479675\t F1=0.5814814814814814\n",
      "Row Score:\t Precision=0.8013468013468014\t Recall=0.38699186991869916\t F1=0.5219298245614036\n",
      "Creating dBoost\n"
     ]
    },
    {
     "name": "stderr",
     "output_type": "stream",
     "text": [
      ">> Building model...\n",
      ">> Finding outliers...\n",
      "Time 0 1.957015400000273\n",
      "Runtime  2.195753699999841\n",
      ">> Finding correlations\n"
     ]
    },
    {
     "name": "stdout",
     "output_type": "stream",
     "text": [
      "Cell Score:\t Precision=0.3883550566073637\t Recall=0.8296747967479675\t F1=0.5290648694187026\n",
      "Row Score:\t Precision=0.8013468013468014\t Recall=0.38699186991869916\t F1=0.5219298245614036\n",
      "Creating dBoost\n"
     ]
    },
    {
     "name": "stderr",
     "output_type": "stream",
     "text": [
      ">> Building model...\n",
      ">> Finding outliers...\n",
      "Time 0 1.7243826999992962\n",
      "Runtime  1.9721144999994067\n",
      ">> Finding correlations\n"
     ]
    },
    {
     "name": "stdout",
     "output_type": "stream",
     "text": [
      "Cell Score:\t Precision=0.3446584938704028\t Recall=1.0\t F1=0.5126334983068508\n",
      "Row Score:\t Precision=0.8013468013468014\t Recall=0.38699186991869916\t F1=0.5219298245614036\n",
      "Creating dBoost\n"
     ]
    },
    {
     "name": "stderr",
     "output_type": "stream",
     "text": [
      ">> Building model...\n",
      ">> Finding outliers...\n",
      "Time 0 1.7127599999994345\n",
      "Runtime  1.9361928999996962\n",
      ">> Finding correlations\n"
     ]
    },
    {
     "name": "stdout",
     "output_type": "stream",
     "text": [
      "Cell Score:\t Precision=0.8702290076335878\t Recall=0.09268292682926829\t F1=0.16752387950036737\n",
      "Row Score:\t Precision=0.9429429429429429\t Recall=0.06382113821138212\t F1=0.11955073291452503\n",
      "Creating dBoost\n"
     ]
    },
    {
     "name": "stderr",
     "output_type": "stream",
     "text": [
      ">> Building model...\n",
      ">> Finding outliers...\n",
      "Time 0 1.7756771999993362\n"
     ]
    },
    {
     "name": "stdout",
     "output_type": "stream",
     "text": [
      "Cell Score:\t Precision=0.4304424778761062\t Recall=0.24715447154471545\t F1=0.31400903808908975\n",
      "Row Score:\t Precision=0.7766463000678887\t Recall=0.23252032520325203\t F1=0.35789144376661974\n",
      "Creating dBoost\n"
     ]
    },
    {
     "name": "stderr",
     "output_type": "stream",
     "text": [
      "Runtime  1.989829699999973\n",
      ">> Finding correlations\n",
      ">> Building model...\n",
      ">> Finding outliers...\n",
      "Time 0 1.610982199999853\n",
      "Runtime  1.8558181999997032\n",
      ">> Finding correlations\n"
     ]
    },
    {
     "name": "stdout",
     "output_type": "stream",
     "text": [
      "Cell Score:\t Precision=0.5023643949930459\t Recall=0.7341463414634146\t F1=0.5965317919075144\n",
      "Row Score:\t Precision=0.8013468013468014\t Recall=0.38699186991869916\t F1=0.5219298245614036\n",
      "Creating dBoost\n"
     ]
    },
    {
     "name": "stderr",
     "output_type": "stream",
     "text": [
      ">> Building model...\n",
      ">> Finding outliers...\n",
      "Time 0 1.6675349999995888\n",
      "Runtime  1.8950981999996657\n",
      ">> Finding correlations\n"
     ]
    },
    {
     "name": "stdout",
     "output_type": "stream",
     "text": [
      "Cell Score:\t Precision=0.5023643949930459\t Recall=0.7341463414634146\t F1=0.5965317919075144\n",
      "Row Score:\t Precision=0.8013468013468014\t Recall=0.38699186991869916\t F1=0.5219298245614036\n",
      "Creating dBoost\n"
     ]
    },
    {
     "name": "stderr",
     "output_type": "stream",
     "text": [
      ">> Building model...\n",
      ">> Finding outliers...\n",
      "Time 0 1.6546081999995295\n",
      "Runtime  1.8807285000002594\n",
      ">> Finding correlations\n"
     ]
    },
    {
     "name": "stdout",
     "output_type": "stream",
     "text": [
      "Cell Score:\t Precision=0.5023643949930459\t Recall=0.7341463414634146\t F1=0.5965317919075144\n",
      "Row Score:\t Precision=0.8013468013468014\t Recall=0.38699186991869916\t F1=0.5219298245614036\n",
      "Creating dBoost\n"
     ]
    },
    {
     "name": "stderr",
     "output_type": "stream",
     "text": [
      ">> Building model...\n",
      ">> Finding outliers...\n",
      "Time 0 1.3364495999994688\n",
      "Runtime  1.675299399999858\n",
      ">> Finding correlations\n"
     ]
    },
    {
     "name": "stdout",
     "output_type": "stream",
     "text": [
      "Cell Score:\t Precision=0.4662327095199349\t Recall=0.5823170731707317\t F1=0.517849073655671\n",
      "Row Score:\t Precision=0.8016074450084603\t Recall=0.3851626016260163\t F1=0.5203185063152115\n",
      "Creating dBoost\n"
     ]
    },
    {
     "name": "stderr",
     "output_type": "stream",
     "text": [
      ">> Building model...\n",
      ">> Finding outliers...\n",
      "Time 0 1.34800499999983\n",
      "Runtime  1.639339000000291\n",
      ">> Finding correlations\n"
     ]
    },
    {
     "name": "stdout",
     "output_type": "stream",
     "text": [
      "Cell Score:\t Precision=0.5363757876646935\t Recall=0.5709349593495935\t F1=0.5531160775819632\n",
      "Row Score:\t Precision=0.8197247706422018\t Recall=0.36321138211382115\t F1=0.5033802816901408\n",
      "Creating dBoost\n"
     ]
    },
    {
     "name": "stderr",
     "output_type": "stream",
     "text": [
      ">> Building model...\n",
      ">> Finding outliers...\n",
      "Time 0 1.2923172000000704\n",
      "Runtime  1.5940897000000405\n",
      ">> Finding correlations\n"
     ]
    },
    {
     "name": "stdout",
     "output_type": "stream",
     "text": [
      "Cell Score:\t Precision=0.3973109243697479\t Recall=0.24024390243902438\t F1=0.29943001899936666\n",
      "Row Score:\t Precision=0.8061594202898551\t Recall=0.27134146341463417\t F1=0.40602189781021897\n",
      "Creating dBoost\n"
     ]
    },
    {
     "name": "stderr",
     "output_type": "stream",
     "text": [
      ">> Building model...\n",
      ">> Finding outliers...\n",
      "Time 0 1.301898899999287\n",
      "Runtime  1.594470299999557\n",
      ">> Finding correlations\n"
     ]
    },
    {
     "name": "stdout",
     "output_type": "stream",
     "text": [
      "Cell Score:\t Precision=0.5049762007788836\t Recall=0.2371951219512195\t F1=0.3227769326510856\n",
      "Row Score:\t Precision=0.7922374429223744\t Recall=0.21158536585365853\t F1=0.33397497593840225\n",
      "Creating dBoost\n"
     ]
    },
    {
     "name": "stderr",
     "output_type": "stream",
     "text": [
      ">> Building model...\n",
      ">> Finding outliers...\n",
      "Time 0 1.4386256999996476\n",
      "Runtime  1.7588143000002674\n",
      ">> Finding correlations\n"
     ]
    },
    {
     "name": "stdout",
     "output_type": "stream",
     "text": [
      "Cell Score:\t Precision=0.6056173200702165\t Recall=0.21036585365853658\t F1=0.31226429325690147\n",
      "Row Score:\t Precision=0.8255360623781677\t Recall=0.17215447154471544\t F1=0.28489741002354524\n",
      "Creating dBoost\n"
     ]
    },
    {
     "name": "stderr",
     "output_type": "stream",
     "text": [
      ">> Building model...\n",
      ">> Finding outliers...\n",
      "Time 0 1.3462239999998928\n",
      "Runtime  1.6537132999992536\n",
      ">> Finding correlations\n"
     ]
    },
    {
     "name": "stdout",
     "output_type": "stream",
     "text": [
      "Cell Score:\t Precision=0.8583690987124464\t Recall=0.12195121951219512\t F1=0.21356113187399892\n",
      "Row Score:\t Precision=0.8803571428571428\t Recall=0.10020325203252033\t F1=0.17992700729927005\n",
      "Creating dBoost\n"
     ]
    },
    {
     "name": "stderr",
     "output_type": "stream",
     "text": [
      ">> Building model...\n",
      ">> Finding outliers...\n",
      "Time 0 1.319553299999825\n",
      "Runtime  1.6061048000001392\n",
      ">> Finding correlations\n"
     ]
    },
    {
     "name": "stdout",
     "output_type": "stream",
     "text": [
      "Cell Score:\t Precision=0.8333333333333334\t Recall=0.044715447154471545\t F1=0.08487654320987655\n",
      "Row Score:\t Precision=0.8465909090909091\t Recall=0.030284552845528456\t F1=0.05847723704866562\n",
      "Creating dBoost\n"
     ]
    },
    {
     "name": "stderr",
     "output_type": "stream",
     "text": [
      ">> Building model...\n",
      ">> Finding outliers...\n",
      "Time 0 1.515548000000308\n",
      "Runtime  1.8494735000003857\n",
      ">> Finding correlations\n"
     ]
    },
    {
     "name": "stdout",
     "output_type": "stream",
     "text": [
      "Cell Score:\t Precision=0.8274509803921568\t Recall=0.04288617886178862\t F1=0.08154589371980675\n",
      "Row Score:\t Precision=0.8392857142857143\t Recall=0.028658536585365855\t F1=0.055424528301886794\n",
      "Creating dBoost\n"
     ]
    },
    {
     "name": "stderr",
     "output_type": "stream",
     "text": [
      ">> Building model...\n",
      ">> Finding outliers...\n",
      "Time 0 1.442373900000348\n"
     ]
    },
    {
     "name": "stdout",
     "output_type": "stream",
     "text": [
      "Cell Score:\t Precision=0.8204081632653061\t Recall=0.04085365853658537\t F1=0.07783155856727976\n",
      "Row Score:\t Precision=0.83125\t Recall=0.02703252032520325\t F1=0.05236220472440945\n"
     ]
    },
    {
     "name": "stderr",
     "output_type": "stream",
     "text": [
      "Runtime  1.742923900000278\n"
     ]
    }
   ],
   "source": [
    "run_examples_from_tools = [\"dBoost\"]\n",
    "\n",
    "for tool_name in run_examples_from_tools:\n",
    "    for config in creator.createTool(tool_name, []).example_configurations:\n",
    "        tool = creator.createTool(tool_name, config)\n",
    "        results = tool.run(d)\n",
    "        \n",
    "        print_scores(d, results)"
   ]
  },
  {
   "cell_type": "code",
   "execution_count": 12,
   "metadata": {},
   "outputs": [
    {
     "data": {
      "text/plain": [
       "1904"
      ]
     },
     "execution_count": 12,
     "metadata": {},
     "output_type": "execute_result"
    }
   ],
   "source": [
    "rows_found = set()\n",
    "for detection in d.actual_errors_dictionary:\n",
    "    rows_found.add(detection[0])\n",
    "    \n",
    "len(rows_found)"
   ]
  },
  {
   "cell_type": "code",
   "execution_count": 26,
   "metadata": {},
   "outputs": [
    {
     "data": {
      "text/html": [
       "<div>\n",
       "<style scoped>\n",
       "    .dataframe tbody tr th:only-of-type {\n",
       "        vertical-align: middle;\n",
       "    }\n",
       "\n",
       "    .dataframe tbody tr th {\n",
       "        vertical-align: top;\n",
       "    }\n",
       "\n",
       "    .dataframe thead th {\n",
       "        text-align: right;\n",
       "    }\n",
       "</style>\n",
       "<table border=\"1\" class=\"dataframe\">\n",
       "  <thead>\n",
       "    <tr style=\"text-align: right;\">\n",
       "      <th></th>\n",
       "      <th>tuple_id</th>\n",
       "      <th>src</th>\n",
       "      <th>flight</th>\n",
       "      <th>sched_dep_time</th>\n",
       "      <th>act_dep_time</th>\n",
       "      <th>sched_arr_time</th>\n",
       "      <th>act_arr_time</th>\n",
       "    </tr>\n",
       "  </thead>\n",
       "  <tbody>\n",
       "    <tr>\n",
       "      <th>24</th>\n",
       "      <td>25</td>\n",
       "      <td>aa</td>\n",
       "      <td>AA-3-JFK-LAX</td>\n",
       "      <td>12:00 p.m.</td>\n",
       "      <td>12:11 p.m.</td>\n",
       "      <td>3:15 p.m.</td>\n",
       "      <td>3:16 p.m.</td>\n",
       "    </tr>\n",
       "    <tr>\n",
       "      <th>95</th>\n",
       "      <td>96</td>\n",
       "      <td>helloflight</td>\n",
       "      <td>AA-3-JFK-LAX</td>\n",
       "      <td></td>\n",
       "      <td>12:12 p.m.</td>\n",
       "      <td></td>\n",
       "      <td>3:04 p.m.</td>\n",
       "    </tr>\n",
       "    <tr>\n",
       "      <th>155</th>\n",
       "      <td>156</td>\n",
       "      <td>boston</td>\n",
       "      <td>AA-1733-ORD-PHX</td>\n",
       "      <td>7:45 p.m.</td>\n",
       "      <td>7:59 p.m.</td>\n",
       "      <td>10:30 p.m.</td>\n",
       "      <td>10:39 p.m.&amp;nbsp(Estimated)</td>\n",
       "    </tr>\n",
       "    <tr>\n",
       "      <th>156</th>\n",
       "      <td>157</td>\n",
       "      <td>boston</td>\n",
       "      <td>AA-3-JFK-LAX</td>\n",
       "      <td>12:00 p.m.</td>\n",
       "      <td>12:12 p.m.</td>\n",
       "      <td>3:15 p.m.</td>\n",
       "      <td>3:10 p.m.</td>\n",
       "    </tr>\n",
       "    <tr>\n",
       "      <th>160</th>\n",
       "      <td>161</td>\n",
       "      <td>boston</td>\n",
       "      <td>AA-204-LAX-MCO</td>\n",
       "      <td>11:25 p.m.</td>\n",
       "      <td>Not Available</td>\n",
       "      <td>6:55 a.m. Dec 02</td>\n",
       "      <td>Not Available</td>\n",
       "    </tr>\n",
       "  </tbody>\n",
       "</table>\n",
       "</div>"
      ],
      "text/plain": [
       "    tuple_id          src           flight sched_dep_time   act_dep_time  \\\n",
       "24        25           aa     AA-3-JFK-LAX     12:00 p.m.     12:11 p.m.   \n",
       "95        96  helloflight     AA-3-JFK-LAX                    12:12 p.m.   \n",
       "155      156       boston  AA-1733-ORD-PHX      7:45 p.m.      7:59 p.m.   \n",
       "156      157       boston     AA-3-JFK-LAX     12:00 p.m.     12:12 p.m.   \n",
       "160      161       boston   AA-204-LAX-MCO     11:25 p.m.  Not Available   \n",
       "\n",
       "       sched_arr_time                act_arr_time  \n",
       "24          3:15 p.m.                   3:16 p.m.  \n",
       "95                                      3:04 p.m.  \n",
       "155        10:30 p.m.  10:39 p.m.&nbsp(Estimated)  \n",
       "156         3:15 p.m.                   3:10 p.m.  \n",
       "160  6:55 a.m. Dec 02               Not Available  "
      ]
     },
     "metadata": {},
     "output_type": "display_data"
    },
    {
     "data": {
      "text/html": [
       "<div>\n",
       "<style scoped>\n",
       "    .dataframe tbody tr th:only-of-type {\n",
       "        vertical-align: middle;\n",
       "    }\n",
       "\n",
       "    .dataframe tbody tr th {\n",
       "        vertical-align: top;\n",
       "    }\n",
       "\n",
       "    .dataframe thead th {\n",
       "        text-align: right;\n",
       "    }\n",
       "</style>\n",
       "<table border=\"1\" class=\"dataframe\">\n",
       "  <thead>\n",
       "    <tr style=\"text-align: right;\">\n",
       "      <th></th>\n",
       "      <th>tuple_id</th>\n",
       "      <th>src</th>\n",
       "      <th>flight</th>\n",
       "      <th>sched_dep_time</th>\n",
       "      <th>act_dep_time</th>\n",
       "      <th>sched_arr_time</th>\n",
       "      <th>act_arr_time</th>\n",
       "    </tr>\n",
       "  </thead>\n",
       "  <tbody>\n",
       "    <tr>\n",
       "      <th>24</th>\n",
       "      <td>25</td>\n",
       "      <td>aa</td>\n",
       "      <td>JUST A DUMMY VALUE</td>\n",
       "      <td>12:00 p.m.</td>\n",
       "      <td>12:11 p.m.</td>\n",
       "      <td>3:15 p.m.</td>\n",
       "      <td>3:16 p.m.</td>\n",
       "    </tr>\n",
       "    <tr>\n",
       "      <th>95</th>\n",
       "      <td>96</td>\n",
       "      <td>helloflight</td>\n",
       "      <td>JUST A DUMMY VALUE</td>\n",
       "      <td></td>\n",
       "      <td>12:12 p.m.</td>\n",
       "      <td></td>\n",
       "      <td>3:04 p.m.</td>\n",
       "    </tr>\n",
       "    <tr>\n",
       "      <th>155</th>\n",
       "      <td>156</td>\n",
       "      <td>boston</td>\n",
       "      <td>AA-1733-ORD-PHX</td>\n",
       "      <td>7:45 p.m.</td>\n",
       "      <td>7:59 p.m.</td>\n",
       "      <td>10:30 p.m.</td>\n",
       "      <td>JUST A DUMMY VALUE</td>\n",
       "    </tr>\n",
       "    <tr>\n",
       "      <th>156</th>\n",
       "      <td>157</td>\n",
       "      <td>boston</td>\n",
       "      <td>JUST A DUMMY VALUE</td>\n",
       "      <td>12:00 p.m.</td>\n",
       "      <td>12:12 p.m.</td>\n",
       "      <td>3:15 p.m.</td>\n",
       "      <td>3:10 p.m.</td>\n",
       "    </tr>\n",
       "    <tr>\n",
       "      <th>160</th>\n",
       "      <td>161</td>\n",
       "      <td>boston</td>\n",
       "      <td>AA-204-LAX-MCO</td>\n",
       "      <td>11:25 p.m.</td>\n",
       "      <td>JUST A DUMMY VALUE</td>\n",
       "      <td>6:55 a.m. Dec 02</td>\n",
       "      <td>JUST A DUMMY VALUE</td>\n",
       "    </tr>\n",
       "  </tbody>\n",
       "</table>\n",
       "</div>"
      ],
      "text/plain": [
       "    tuple_id          src              flight sched_dep_time  \\\n",
       "24        25           aa  JUST A DUMMY VALUE     12:00 p.m.   \n",
       "95        96  helloflight  JUST A DUMMY VALUE                  \n",
       "155      156       boston     AA-1733-ORD-PHX      7:45 p.m.   \n",
       "156      157       boston  JUST A DUMMY VALUE     12:00 p.m.   \n",
       "160      161       boston      AA-204-LAX-MCO     11:25 p.m.   \n",
       "\n",
       "           act_dep_time    sched_arr_time        act_arr_time  \n",
       "24           12:11 p.m.         3:15 p.m.           3:16 p.m.  \n",
       "95           12:12 p.m.                             3:04 p.m.  \n",
       "155           7:59 p.m.        10:30 p.m.  JUST A DUMMY VALUE  \n",
       "156          12:12 p.m.         3:15 p.m.           3:10 p.m.  \n",
       "160  JUST A DUMMY VALUE  6:55 a.m. Dec 02  JUST A DUMMY VALUE  "
      ]
     },
     "metadata": {},
     "output_type": "display_data"
    },
    {
     "data": {
      "text/html": [
       "<div>\n",
       "<style scoped>\n",
       "    .dataframe tbody tr th:only-of-type {\n",
       "        vertical-align: middle;\n",
       "    }\n",
       "\n",
       "    .dataframe tbody tr th {\n",
       "        vertical-align: top;\n",
       "    }\n",
       "\n",
       "    .dataframe thead th {\n",
       "        text-align: right;\n",
       "    }\n",
       "</style>\n",
       "<table border=\"1\" class=\"dataframe\">\n",
       "  <thead>\n",
       "    <tr style=\"text-align: right;\">\n",
       "      <th></th>\n",
       "      <th>tuple_id</th>\n",
       "      <th>src</th>\n",
       "      <th>flight</th>\n",
       "      <th>sched_dep_time</th>\n",
       "      <th>act_dep_time</th>\n",
       "      <th>sched_arr_time</th>\n",
       "      <th>act_arr_time</th>\n",
       "    </tr>\n",
       "  </thead>\n",
       "  <tbody>\n",
       "    <tr>\n",
       "      <th>24</th>\n",
       "      <td>25</td>\n",
       "      <td>aa</td>\n",
       "      <td>AA-3-JFK-LAX</td>\n",
       "      <td>12:00 p.m.</td>\n",
       "      <td>12:11 p.m.</td>\n",
       "      <td>3:15 p.m.</td>\n",
       "      <td>3:16 p.m.</td>\n",
       "    </tr>\n",
       "    <tr>\n",
       "      <th>95</th>\n",
       "      <td>96</td>\n",
       "      <td>helloflight</td>\n",
       "      <td>AA-3-JFK-LAX</td>\n",
       "      <td>12:00 p.m.</td>\n",
       "      <td>12:11 p.m.</td>\n",
       "      <td>3:15 p.m.</td>\n",
       "      <td>3:16 p.m.</td>\n",
       "    </tr>\n",
       "    <tr>\n",
       "      <th>155</th>\n",
       "      <td>156</td>\n",
       "      <td>boston</td>\n",
       "      <td>AA-1733-ORD-PHX</td>\n",
       "      <td>7:45 p.m.</td>\n",
       "      <td>7:58 p.m.</td>\n",
       "      <td>10:30 p.m.</td>\n",
       "      <td>10:30 p.m.</td>\n",
       "    </tr>\n",
       "    <tr>\n",
       "      <th>156</th>\n",
       "      <td>157</td>\n",
       "      <td>boston</td>\n",
       "      <td>AA-3-JFK-LAX</td>\n",
       "      <td>12:00 p.m.</td>\n",
       "      <td>12:11 p.m.</td>\n",
       "      <td>3:15 p.m.</td>\n",
       "      <td>3:16 p.m.</td>\n",
       "    </tr>\n",
       "    <tr>\n",
       "      <th>160</th>\n",
       "      <td>161</td>\n",
       "      <td>boston</td>\n",
       "      <td>AA-204-LAX-MCO</td>\n",
       "      <td>11:25 p.m.</td>\n",
       "      <td>11:25 p.m.</td>\n",
       "      <td>6:55 a.m.</td>\n",
       "      <td>6:55 a.m.</td>\n",
       "    </tr>\n",
       "  </tbody>\n",
       "</table>\n",
       "</div>"
      ],
      "text/plain": [
       "    tuple_id          src           flight sched_dep_time act_dep_time  \\\n",
       "24        25           aa     AA-3-JFK-LAX     12:00 p.m.   12:11 p.m.   \n",
       "95        96  helloflight     AA-3-JFK-LAX     12:00 p.m.   12:11 p.m.   \n",
       "155      156       boston  AA-1733-ORD-PHX      7:45 p.m.    7:58 p.m.   \n",
       "156      157       boston     AA-3-JFK-LAX     12:00 p.m.   12:11 p.m.   \n",
       "160      161       boston   AA-204-LAX-MCO     11:25 p.m.   11:25 p.m.   \n",
       "\n",
       "    sched_arr_time act_arr_time  \n",
       "24       3:15 p.m.    3:16 p.m.  \n",
       "95       3:15 p.m.    3:16 p.m.  \n",
       "155     10:30 p.m.   10:30 p.m.  \n",
       "156      3:15 p.m.    3:16 p.m.  \n",
       "160      6:55 a.m.    6:55 a.m.  "
      ]
     },
     "metadata": {},
     "output_type": "display_data"
    }
   ],
   "source": [
    "d.create_repaired_dataset(results)\n",
    "my_repaired_index = (d.repaired_dataframe == \"JUST A DUMMY VALUE\").any(axis=1)\n",
    "\n",
    "\n",
    "display(d.dataframe[my_repaired_index].head(5))\n",
    "display(d.repaired_dataframe[my_repaired_index].head(5))\n",
    "d.create_repaired_dataset(d.actual_errors_dictionary)\n",
    "display(d.repaired_dataframe[my_repaired_index].head(5))\n",
    "\n"
   ]
  },
  {
   "cell_type": "code",
   "execution_count": 20,
   "metadata": {},
   "outputs": [
    {
     "data": {
      "text/plain": [
       "{(24, 2): 'JUST A DUMMY VALUE',\n",
       " (95, 2): 'JUST A DUMMY VALUE',\n",
       " (155, 6): 'JUST A DUMMY VALUE',\n",
       " (156, 2): 'JUST A DUMMY VALUE',\n",
       " (160, 4): 'JUST A DUMMY VALUE',\n",
       " (160, 6): 'JUST A DUMMY VALUE',\n",
       " (193, 4): 'JUST A DUMMY VALUE',\n",
       " (193, 6): 'JUST A DUMMY VALUE',\n",
       " (195, 4): 'JUST A DUMMY VALUE',\n",
       " (195, 6): 'JUST A DUMMY VALUE',\n",
       " (211, 4): 'JUST A DUMMY VALUE',\n",
       " (211, 6): 'JUST A DUMMY VALUE',\n",
       " (212, 4): 'JUST A DUMMY VALUE',\n",
       " (212, 6): 'JUST A DUMMY VALUE',\n",
       " (213, 4): 'JUST A DUMMY VALUE',\n",
       " (213, 6): 'JUST A DUMMY VALUE',\n",
       " (217, 4): 'JUST A DUMMY VALUE',\n",
       " (217, 6): 'JUST A DUMMY VALUE',\n",
       " (288, 2): 'JUST A DUMMY VALUE',\n",
       " (382, 2): 'JUST A DUMMY VALUE',\n",
       " (443, 2): 'JUST A DUMMY VALUE',\n",
       " (542, 6): 'JUST A DUMMY VALUE',\n",
       " (544, 4): 'JUST A DUMMY VALUE',\n",
       " (544, 6): 'JUST A DUMMY VALUE',\n",
       " (547, 4): 'JUST A DUMMY VALUE',\n",
       " (547, 6): 'JUST A DUMMY VALUE',\n",
       " (581, 2): 'JUST A DUMMY VALUE',\n",
       " (582, 4): 'JUST A DUMMY VALUE',\n",
       " (582, 6): 'JUST A DUMMY VALUE',\n",
       " (597, 4): 'JUST A DUMMY VALUE',\n",
       " (597, 6): 'JUST A DUMMY VALUE',\n",
       " (598, 4): 'JUST A DUMMY VALUE',\n",
       " (598, 6): 'JUST A DUMMY VALUE',\n",
       " (599, 4): 'JUST A DUMMY VALUE',\n",
       " (599, 6): 'JUST A DUMMY VALUE',\n",
       " (600, 4): 'JUST A DUMMY VALUE',\n",
       " (600, 6): 'JUST A DUMMY VALUE',\n",
       " (608, 4): 'JUST A DUMMY VALUE',\n",
       " (635, 2): 'JUST A DUMMY VALUE',\n",
       " (760, 2): 'JUST A DUMMY VALUE',\n",
       " (778, 4): 'JUST A DUMMY VALUE',\n",
       " (792, 5): 'JUST A DUMMY VALUE',\n",
       " (792, 6): 'JUST A DUMMY VALUE',\n",
       " (793, 5): 'JUST A DUMMY VALUE',\n",
       " (793, 6): 'JUST A DUMMY VALUE',\n",
       " (794, 5): 'JUST A DUMMY VALUE',\n",
       " (794, 6): 'JUST A DUMMY VALUE',\n",
       " (795, 5): 'JUST A DUMMY VALUE',\n",
       " (795, 6): 'JUST A DUMMY VALUE',\n",
       " (796, 5): 'JUST A DUMMY VALUE',\n",
       " (796, 6): 'JUST A DUMMY VALUE',\n",
       " (803, 5): 'JUST A DUMMY VALUE',\n",
       " (803, 6): 'JUST A DUMMY VALUE',\n",
       " (804, 5): 'JUST A DUMMY VALUE',\n",
       " (804, 6): 'JUST A DUMMY VALUE',\n",
       " (805, 5): 'JUST A DUMMY VALUE',\n",
       " (805, 6): 'JUST A DUMMY VALUE',\n",
       " (806, 5): 'JUST A DUMMY VALUE',\n",
       " (806, 6): 'JUST A DUMMY VALUE',\n",
       " (807, 5): 'JUST A DUMMY VALUE',\n",
       " (807, 6): 'JUST A DUMMY VALUE',\n",
       " (808, 3): 'JUST A DUMMY VALUE',\n",
       " (809, 5): 'JUST A DUMMY VALUE',\n",
       " (809, 6): 'JUST A DUMMY VALUE',\n",
       " (810, 5): 'JUST A DUMMY VALUE',\n",
       " (817, 2): 'JUST A DUMMY VALUE',\n",
       " (821, 5): 'JUST A DUMMY VALUE',\n",
       " (856, 5): 'JUST A DUMMY VALUE',\n",
       " (871, 5): 'JUST A DUMMY VALUE',\n",
       " (872, 5): 'JUST A DUMMY VALUE',\n",
       " (873, 5): 'JUST A DUMMY VALUE',\n",
       " (931, 2): 'JUST A DUMMY VALUE',\n",
       " (932, 4): 'JUST A DUMMY VALUE',\n",
       " (932, 6): 'JUST A DUMMY VALUE',\n",
       " (942, 4): 'JUST A DUMMY VALUE',\n",
       " (942, 6): 'JUST A DUMMY VALUE',\n",
       " (943, 4): 'JUST A DUMMY VALUE',\n",
       " (943, 6): 'JUST A DUMMY VALUE',\n",
       " (991, 3): 'JUST A DUMMY VALUE',\n",
       " (991, 5): 'JUST A DUMMY VALUE',\n",
       " (992, 3): 'JUST A DUMMY VALUE',\n",
       " (992, 5): 'JUST A DUMMY VALUE',\n",
       " (994, 4): 'JUST A DUMMY VALUE',\n",
       " (994, 6): 'JUST A DUMMY VALUE',\n",
       " (995, 2): 'JUST A DUMMY VALUE',\n",
       " (996, 4): 'JUST A DUMMY VALUE',\n",
       " (996, 6): 'JUST A DUMMY VALUE',\n",
       " (998, 4): 'JUST A DUMMY VALUE',\n",
       " (998, 6): 'JUST A DUMMY VALUE',\n",
       " (999, 3): 'JUST A DUMMY VALUE',\n",
       " (999, 5): 'JUST A DUMMY VALUE',\n",
       " (1001, 4): 'JUST A DUMMY VALUE',\n",
       " (1001, 6): 'JUST A DUMMY VALUE',\n",
       " (1003, 3): 'JUST A DUMMY VALUE',\n",
       " (1003, 5): 'JUST A DUMMY VALUE',\n",
       " (1008, 4): 'JUST A DUMMY VALUE',\n",
       " (1008, 6): 'JUST A DUMMY VALUE',\n",
       " (1018, 4): 'JUST A DUMMY VALUE',\n",
       " (1018, 6): 'JUST A DUMMY VALUE',\n",
       " (1025, 4): 'JUST A DUMMY VALUE',\n",
       " (1025, 6): 'JUST A DUMMY VALUE',\n",
       " (1026, 3): 'JUST A DUMMY VALUE',\n",
       " (1026, 5): 'JUST A DUMMY VALUE',\n",
       " (1030, 4): 'JUST A DUMMY VALUE',\n",
       " (1030, 6): 'JUST A DUMMY VALUE',\n",
       " (1032, 4): 'JUST A DUMMY VALUE',\n",
       " (1032, 6): 'JUST A DUMMY VALUE',\n",
       " (1034, 3): 'JUST A DUMMY VALUE',\n",
       " (1034, 5): 'JUST A DUMMY VALUE',\n",
       " (1035, 4): 'JUST A DUMMY VALUE',\n",
       " (1035, 6): 'JUST A DUMMY VALUE',\n",
       " (1036, 4): 'JUST A DUMMY VALUE',\n",
       " (1036, 6): 'JUST A DUMMY VALUE',\n",
       " (1037, 4): 'JUST A DUMMY VALUE',\n",
       " (1037, 6): 'JUST A DUMMY VALUE',\n",
       " (1038, 4): 'JUST A DUMMY VALUE',\n",
       " (1038, 6): 'JUST A DUMMY VALUE',\n",
       " (1041, 3): 'JUST A DUMMY VALUE',\n",
       " (1041, 5): 'JUST A DUMMY VALUE',\n",
       " (1042, 3): 'JUST A DUMMY VALUE',\n",
       " (1042, 5): 'JUST A DUMMY VALUE',\n",
       " (1043, 4): 'JUST A DUMMY VALUE',\n",
       " (1043, 6): 'JUST A DUMMY VALUE',\n",
       " (1045, 3): 'JUST A DUMMY VALUE',\n",
       " (1045, 5): 'JUST A DUMMY VALUE',\n",
       " (1046, 3): 'JUST A DUMMY VALUE',\n",
       " (1046, 5): 'JUST A DUMMY VALUE',\n",
       " (1047, 4): 'JUST A DUMMY VALUE',\n",
       " (1047, 6): 'JUST A DUMMY VALUE',\n",
       " (1049, 4): 'JUST A DUMMY VALUE',\n",
       " (1049, 6): 'JUST A DUMMY VALUE',\n",
       " (1050, 4): 'JUST A DUMMY VALUE',\n",
       " (1050, 6): 'JUST A DUMMY VALUE',\n",
       " (1054, 4): 'JUST A DUMMY VALUE',\n",
       " (1054, 6): 'JUST A DUMMY VALUE',\n",
       " (1056, 4): 'JUST A DUMMY VALUE',\n",
       " (1056, 6): 'JUST A DUMMY VALUE',\n",
       " (1058, 3): 'JUST A DUMMY VALUE',\n",
       " (1058, 5): 'JUST A DUMMY VALUE',\n",
       " (1063, 4): 'JUST A DUMMY VALUE',\n",
       " (1063, 6): 'JUST A DUMMY VALUE',\n",
       " (1076, 2): 'JUST A DUMMY VALUE',\n",
       " (1192, 4): 'JUST A DUMMY VALUE',\n",
       " (1192, 6): 'JUST A DUMMY VALUE',\n",
       " (1199, 4): 'JUST A DUMMY VALUE',\n",
       " (1199, 6): 'JUST A DUMMY VALUE',\n",
       " (1211, 4): 'JUST A DUMMY VALUE',\n",
       " (1211, 6): 'JUST A DUMMY VALUE',\n",
       " (1268, 2): 'JUST A DUMMY VALUE',\n",
       " (1329, 2): 'JUST A DUMMY VALUE',\n",
       " (1426, 1): 'JUST A DUMMY VALUE',\n",
       " (1427, 1): 'JUST A DUMMY VALUE',\n",
       " (1428, 1): 'JUST A DUMMY VALUE',\n",
       " (1429, 1): 'JUST A DUMMY VALUE',\n",
       " (1430, 1): 'JUST A DUMMY VALUE',\n",
       " (1431, 1): 'JUST A DUMMY VALUE',\n",
       " (1432, 1): 'JUST A DUMMY VALUE',\n",
       " (1433, 1): 'JUST A DUMMY VALUE',\n",
       " (1434, 1): 'JUST A DUMMY VALUE',\n",
       " (1435, 1): 'JUST A DUMMY VALUE',\n",
       " (1436, 1): 'JUST A DUMMY VALUE',\n",
       " (1437, 1): 'JUST A DUMMY VALUE',\n",
       " (1438, 1): 'JUST A DUMMY VALUE',\n",
       " (1439, 1): 'JUST A DUMMY VALUE',\n",
       " (1440, 1): 'JUST A DUMMY VALUE',\n",
       " (1441, 1): 'JUST A DUMMY VALUE',\n",
       " (1442, 1): 'JUST A DUMMY VALUE',\n",
       " (1443, 1): 'JUST A DUMMY VALUE',\n",
       " (1444, 1): 'JUST A DUMMY VALUE',\n",
       " (1459, 4): 'JUST A DUMMY VALUE',\n",
       " (1459, 6): 'JUST A DUMMY VALUE',\n",
       " (1461, 4): 'JUST A DUMMY VALUE',\n",
       " (1461, 6): 'JUST A DUMMY VALUE',\n",
       " (1464, 6): 'JUST A DUMMY VALUE',\n",
       " (1478, 2): 'JUST A DUMMY VALUE',\n",
       " (1479, 4): 'JUST A DUMMY VALUE',\n",
       " (1479, 6): 'JUST A DUMMY VALUE',\n",
       " (1532, 2): 'JUST A DUMMY VALUE',\n",
       " (1591, 4): 'JUST A DUMMY VALUE',\n",
       " (1591, 6): 'JUST A DUMMY VALUE',\n",
       " (1618, 4): 'JUST A DUMMY VALUE',\n",
       " (1618, 6): 'JUST A DUMMY VALUE',\n",
       " (1622, 3): 'JUST A DUMMY VALUE',\n",
       " (1622, 5): 'JUST A DUMMY VALUE',\n",
       " (1623, 4): 'JUST A DUMMY VALUE',\n",
       " (1623, 6): 'JUST A DUMMY VALUE',\n",
       " (1628, 3): 'JUST A DUMMY VALUE',\n",
       " (1628, 5): 'JUST A DUMMY VALUE',\n",
       " (1694, 2): 'JUST A DUMMY VALUE',\n",
       " (1733, 4): 'JUST A DUMMY VALUE',\n",
       " (1737, 4): 'JUST A DUMMY VALUE',\n",
       " (1739, 4): 'JUST A DUMMY VALUE',\n",
       " (1743, 4): 'JUST A DUMMY VALUE',\n",
       " (1747, 4): 'JUST A DUMMY VALUE',\n",
       " (1752, 4): 'JUST A DUMMY VALUE',\n",
       " (1764, 2): 'JUST A DUMMY VALUE',\n",
       " (1768, 5): 'JUST A DUMMY VALUE',\n",
       " (1803, 5): 'JUST A DUMMY VALUE',\n",
       " (1818, 5): 'JUST A DUMMY VALUE',\n",
       " (1819, 5): 'JUST A DUMMY VALUE',\n",
       " (1820, 5): 'JUST A DUMMY VALUE',\n",
       " (1863, 6): 'JUST A DUMMY VALUE',\n",
       " (1865, 4): 'JUST A DUMMY VALUE',\n",
       " (1865, 6): 'JUST A DUMMY VALUE',\n",
       " (1868, 4): 'JUST A DUMMY VALUE',\n",
       " (1868, 6): 'JUST A DUMMY VALUE',\n",
       " (1902, 2): 'JUST A DUMMY VALUE',\n",
       " (1903, 4): 'JUST A DUMMY VALUE',\n",
       " (1903, 6): 'JUST A DUMMY VALUE',\n",
       " (1918, 4): 'JUST A DUMMY VALUE',\n",
       " (1918, 6): 'JUST A DUMMY VALUE',\n",
       " (1919, 4): 'JUST A DUMMY VALUE',\n",
       " (1919, 6): 'JUST A DUMMY VALUE',\n",
       " (1920, 4): 'JUST A DUMMY VALUE',\n",
       " (1920, 6): 'JUST A DUMMY VALUE',\n",
       " (1921, 4): 'JUST A DUMMY VALUE',\n",
       " (1921, 6): 'JUST A DUMMY VALUE',\n",
       " (1929, 4): 'JUST A DUMMY VALUE',\n",
       " (1956, 2): 'JUST A DUMMY VALUE',\n",
       " (2056, 2): 'JUST A DUMMY VALUE',\n",
       " (2060, 5): 'JUST A DUMMY VALUE',\n",
       " (2095, 5): 'JUST A DUMMY VALUE',\n",
       " (2110, 5): 'JUST A DUMMY VALUE',\n",
       " (2111, 5): 'JUST A DUMMY VALUE',\n",
       " (2112, 5): 'JUST A DUMMY VALUE',\n",
       " (2161, 2): 'JUST A DUMMY VALUE',\n",
       " (2288, 2): 'JUST A DUMMY VALUE',\n",
       " (2324, 6): 'JUST A DUMMY VALUE',\n",
       " (2325, 4): 'JUST A DUMMY VALUE',\n",
       " (2325, 6): 'JUST A DUMMY VALUE',\n",
       " (2326, 4): 'JUST A DUMMY VALUE',\n",
       " (2326, 6): 'JUST A DUMMY VALUE',\n",
       " (2328, 4): 'JUST A DUMMY VALUE',\n",
       " (2328, 6): 'JUST A DUMMY VALUE',\n",
       " (2348, 2): 'JUST A DUMMY VALUE',\n",
       " (2355, 4): 'JUST A DUMMY VALUE',\n",
       " (2355, 6): 'JUST A DUMMY VALUE',\n",
       " (2356, 4): 'JUST A DUMMY VALUE',\n",
       " (2356, 6): 'JUST A DUMMY VALUE',\n",
       " (2357, 4): 'JUST A DUMMY VALUE',\n",
       " (2357, 6): 'JUST A DUMMY VALUE',\n",
       " (2358, 4): 'JUST A DUMMY VALUE',\n",
       " (2358, 6): 'JUST A DUMMY VALUE',\n",
       " (2362, 4): 'JUST A DUMMY VALUE',\n",
       " (2362, 6): 'JUST A DUMMY VALUE'}"
      ]
     },
     "execution_count": 20,
     "metadata": {},
     "output_type": "execute_result"
    }
   ],
   "source": [
    "results"
   ]
  },
  {
   "cell_type": "code",
   "execution_count": 15,
   "metadata": {},
   "outputs": [
    {
     "data": {
      "text/plain": [
       "{24,\n",
       " 95,\n",
       " 155,\n",
       " 156,\n",
       " 160,\n",
       " 193,\n",
       " 195,\n",
       " 211,\n",
       " 212,\n",
       " 213,\n",
       " 217,\n",
       " 288,\n",
       " 382,\n",
       " 443,\n",
       " 542,\n",
       " 544,\n",
       " 547,\n",
       " 581,\n",
       " 582,\n",
       " 597,\n",
       " 598,\n",
       " 599,\n",
       " 600,\n",
       " 608,\n",
       " 635,\n",
       " 760,\n",
       " 778,\n",
       " 792,\n",
       " 793,\n",
       " 794,\n",
       " 795,\n",
       " 796,\n",
       " 803,\n",
       " 804,\n",
       " 805,\n",
       " 806,\n",
       " 807,\n",
       " 808,\n",
       " 809,\n",
       " 810,\n",
       " 817,\n",
       " 821,\n",
       " 856,\n",
       " 871,\n",
       " 872,\n",
       " 873,\n",
       " 931,\n",
       " 932,\n",
       " 942,\n",
       " 943,\n",
       " 991,\n",
       " 992,\n",
       " 994,\n",
       " 995,\n",
       " 996,\n",
       " 998,\n",
       " 999,\n",
       " 1001,\n",
       " 1003,\n",
       " 1008,\n",
       " 1018,\n",
       " 1025,\n",
       " 1026,\n",
       " 1030,\n",
       " 1032,\n",
       " 1034,\n",
       " 1035,\n",
       " 1036,\n",
       " 1037,\n",
       " 1038,\n",
       " 1041,\n",
       " 1042,\n",
       " 1043,\n",
       " 1045,\n",
       " 1046,\n",
       " 1047,\n",
       " 1049,\n",
       " 1050,\n",
       " 1054,\n",
       " 1056,\n",
       " 1058,\n",
       " 1063,\n",
       " 1076,\n",
       " 1192,\n",
       " 1199,\n",
       " 1211,\n",
       " 1268,\n",
       " 1329,\n",
       " 1426,\n",
       " 1427,\n",
       " 1428,\n",
       " 1429,\n",
       " 1430,\n",
       " 1431,\n",
       " 1432,\n",
       " 1433,\n",
       " 1434,\n",
       " 1435,\n",
       " 1436,\n",
       " 1437,\n",
       " 1438,\n",
       " 1439,\n",
       " 1440,\n",
       " 1441,\n",
       " 1442,\n",
       " 1443,\n",
       " 1444,\n",
       " 1459,\n",
       " 1461,\n",
       " 1464,\n",
       " 1478,\n",
       " 1479,\n",
       " 1532,\n",
       " 1591,\n",
       " 1618,\n",
       " 1622,\n",
       " 1623,\n",
       " 1628,\n",
       " 1694,\n",
       " 1733,\n",
       " 1737,\n",
       " 1739,\n",
       " 1743,\n",
       " 1747,\n",
       " 1752,\n",
       " 1764,\n",
       " 1768,\n",
       " 1803,\n",
       " 1818,\n",
       " 1819,\n",
       " 1820,\n",
       " 1863,\n",
       " 1865,\n",
       " 1868,\n",
       " 1902,\n",
       " 1903,\n",
       " 1918,\n",
       " 1919,\n",
       " 1920,\n",
       " 1921,\n",
       " 1929,\n",
       " 1956,\n",
       " 2056,\n",
       " 2060,\n",
       " 2095,\n",
       " 2110,\n",
       " 2111,\n",
       " 2112,\n",
       " 2161,\n",
       " 2288,\n",
       " 2324,\n",
       " 2325,\n",
       " 2326,\n",
       " 2328,\n",
       " 2348,\n",
       " 2355,\n",
       " 2356,\n",
       " 2357,\n",
       " 2358,\n",
       " 2362}"
      ]
     },
     "execution_count": 15,
     "metadata": {},
     "output_type": "execute_result"
    }
   ],
   "source": [
    "rows_found = set()\n",
    "for detection in results:\n",
    "    rows_found.add(detection[0])\n",
    "    \n",
    "rows_found"
   ]
  },
  {
   "cell_type": "code",
   "execution_count": null,
   "metadata": {},
   "outputs": [],
   "source": []
  }
 ],
 "metadata": {
  "kernelspec": {
   "display_name": "Python 3",
   "language": "python",
   "name": "python3"
  },
  "language_info": {
   "codemirror_mode": {
    "name": "ipython",
    "version": 3
   },
   "file_extension": ".py",
   "mimetype": "text/x-python",
   "name": "python",
   "nbconvert_exporter": "python",
   "pygments_lexer": "ipython3",
   "version": "3.6.9"
  }
 },
 "nbformat": 4,
 "nbformat_minor": 2
}
